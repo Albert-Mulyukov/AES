{
 "cells": [
  {
   "cell_type": "code",
   "execution_count": 60,
   "metadata": {},
   "outputs": [],
   "source": [
    "import time"
   ]
  },
  {
   "cell_type": "code",
   "execution_count": 76,
   "metadata": {},
   "outputs": [],
   "source": [
    "from pygost import gost28147\n",
    "from pygost import test_gost28147\n",
    "from pygost import gost3412\n",
    "from pygost.utils import hexdec"
   ]
  },
  {
   "cell_type": "code",
   "execution_count": 83,
   "metadata": {},
   "outputs": [],
   "source": [
    "from pygost.test_gost28147 import cfb_encrypt\n",
    "from pygost.test_gost28147 import cfb_decrypt\n",
    "from pygost.test_gost28147 import ecb_encrypt\n",
    "from pygost.test_gost28147 import cbc_encrypt\n",
    "\n",
    "from pygost.test_gost3412 import GOST3412Kuznechik"
   ]
  },
  {
   "cell_type": "code",
   "execution_count": 87,
   "metadata": {},
   "outputs": [],
   "source": [
    "with open(\"test.txt\") as f:\n",
    "    text = f.read()\n",
    "text = hexdec(text.encode())"
   ]
  },
  {
   "cell_type": "code",
   "execution_count": 85,
   "metadata": {},
   "outputs": [
    {
     "name": "stdout",
     "output_type": "stream",
     "text": [
      "0.12284619930014373\n"
     ]
    }
   ],
   "source": [
    "key = hexdec(b\"75713134B60FEC45A607BB83AA3746AF4FF99DA6D1B53B5B1B402A1BAA030D1B\")\n",
    "iv=hexdec(b\"0102030405060708\")\n",
    "sbox = \"GostR3411_94_TestParamSet\"\n",
    "\n",
    "time_cfbenc = time.time()\n",
    "cipher = cfb_encrypt(\n",
    "                key,\n",
    "                data=text, #hexdec(b\"112233445566778899AABBCCDD800000\"),\n",
    "                iv=hexdec(b\"0102030405060708\"),\n",
    "                sbox=sbox,\n",
    "            )\n",
    "time_cfbenc = time.time() - time_cfbenc\n",
    "\n",
    "print(1.0/time_cfbenc)"
   ]
  },
  {
   "cell_type": "code",
   "execution_count": null,
   "metadata": {},
   "outputs": [],
   "source": []
  }
 ],
 "metadata": {
  "kernelspec": {
   "display_name": "Python 3",
   "language": "python",
   "name": "python3"
  },
  "language_info": {
   "codemirror_mode": {
    "name": "ipython",
    "version": 3
   },
   "file_extension": ".py",
   "mimetype": "text/x-python",
   "name": "python",
   "nbconvert_exporter": "python",
   "pygments_lexer": "ipython3",
   "version": "3.6.5"
  }
 },
 "nbformat": 4,
 "nbformat_minor": 2
}
